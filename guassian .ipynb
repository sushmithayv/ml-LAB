{
 "cells": [
  {
   "cell_type": "code",
   "execution_count": 83,
   "id": "ec746547",
   "metadata": {},
   "outputs": [],
   "source": [
    "import pandas as pd\n",
    "from sklearn.model_selection import train_test_split\n",
    "from sklearn.naive_bayes import GaussianNB\n",
    "from sklearn import metrics\n",
    "\n"
   ]
  },
  {
   "cell_type": "code",
   "execution_count": 84,
   "id": "45ae9f8a",
   "metadata": {},
   "outputs": [],
   "source": [
    "df = pd.read_csv(\"gus.csv\")\n",
    "feature_col_names = ['height', 'weight', 'footsize']\n",
    "predicted_class_names = ['person']\n",
    "\n",
    "\n"
   ]
  },
  {
   "cell_type": "code",
   "execution_count": null,
   "id": "e59ad2c1",
   "metadata": {},
   "outputs": [],
   "source": [
    "X = df[feature_col_names].values \n",
    "y = df[predicted_class_names].values\n",
    "print(X)\n",
    "print(y)\n"
   ]
  },
  {
   "cell_type": "code",
   "execution_count": null,
   "id": "f950a0b0",
   "metadata": {},
   "outputs": [],
   "source": [
    "print(df.head)\n",
    "xtrain,xtest,ytrain,ytest=train_test_split(X,y,test_size=0.40)\n",
    "\n"
   ]
  },
  {
   "cell_type": "code",
   "execution_count": null,
   "id": "81995478",
   "metadata": {},
   "outputs": [],
   "source": []
  },
  {
   "cell_type": "code",
   "execution_count": null,
   "id": "1790dbc0",
   "metadata": {},
   "outputs": [],
   "source": [
    "print ('\\n the total number of Training Data :',ytrain.shape)\n",
    "print ('\\n the total number of Test Data :',ytest.shape)"
   ]
  },
  {
   "cell_type": "code",
   "execution_count": 92,
   "id": "b8dab9fa",
   "metadata": {
    "scrolled": false
   },
   "outputs": [],
   "source": [
    "clf = GaussianNB().fit(xtrain,ytrain.ravel())\n",
    "predicted = clf.predict(xtest)\n",
    "predictTestData= clf.predict([[6,2,8,]])"
   ]
  },
  {
   "cell_type": "code",
   "execution_count": 93,
   "id": "85bb781d",
   "metadata": {},
   "outputs": [
    {
     "name": "stdout",
     "output_type": "stream",
     "text": [
      "\n",
      " Confusion matrix\n",
      "[[0 3]\n",
      " [0 1]]\n",
      "\n",
      " Accuracy of the classifier is 0.25\n",
      "\n",
      " The value of Precision 0.25\n",
      "\n",
      " The value of Recall 1.0\n",
      "Predicted Value for individual Test Data: [1]\n"
     ]
    }
   ],
   "source": [
    "\n",
    "\n",
    "print('\\n Confusion matrix')\n",
    "print(metrics.confusion_matrix(ytest,predicted))\n",
    "\n",
    "print('\\n Accuracy of the classifier is',metrics.accuracy_score(ytest,predicted))\n",
    "\n",
    "print('\\n The value of Precision', metrics.precision_score(ytest,predicted))\n",
    "print('\\n The value of Recall', metrics.recall_score(ytest,predicted))\n",
    "\n",
    "print(\"Predicted Value for individual Test Data:\", predictTestData)\n"
   ]
  }
 ],
 "metadata": {
  "kernelspec": {
   "display_name": "Python 3 (ipykernel)",
   "language": "python",
   "name": "python3"
  },
  "language_info": {
   "codemirror_mode": {
    "name": "ipython",
    "version": 3
   },
   "file_extension": ".py",
   "mimetype": "text/x-python",
   "name": "python",
   "nbconvert_exporter": "python",
   "pygments_lexer": "ipython3",
   "version": "3.9.12"
  }
 },
 "nbformat": 4,
 "nbformat_minor": 5
}
